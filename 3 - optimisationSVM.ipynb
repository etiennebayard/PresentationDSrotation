{
 "cells": [
  {
   "cell_type": "code",
   "execution_count": 1,
   "metadata": {},
   "outputs": [
    {
     "name": "stdout",
     "output_type": "stream",
     "text": [
      "Computational Applied Statistics - Assignment #4 part 2 \n",
      "Etienne Bayard, 2018-05-12 \n",
      "\n",
      "Now that we have found support vector machine to be the best classifier, we will try to play with this algorithm s parameters to see if we can get a better classification than with default parameters.\n"
     ]
    }
   ],
   "source": [
    "print('Computational Applied Statistics - Assignment #4 part 2 \\nEtienne Bayard, 2018-05-12 \\n')\n",
    "\n",
    "# Digit learning challenge\n",
    "# Use the methods taught in the course, or a good combination of the methods taught in the course to predict all 10 digits of the zipcode data. Only use ziptrain.csv data to build your model, and evaluate the accuracy of your model on ziptest.csv\n",
    "\n",
    "# Using numpy library for data importation\n",
    "import numpy as np\n",
    "\n",
    "# Assign the filenames: file_train and file_test\n",
    "path = 'C:/Users/User/Desktop/data/'\n",
    "filetrain = path + 'ziptrain.csv'\n",
    "filetest = path + 'ziptest.csv'\n",
    "\n",
    "# Read the files into a numpy arrays: data_train and data_test\n",
    "data_train = np.loadtxt(filetrain)\n",
    "data_test = np.loadtxt(filetest)\n",
    "\n",
    "# Define the datasets for training and testing from the imported data\n",
    "X_train = data_train[:,1:257]\n",
    "y_train = data_train[:,0]\n",
    "X_test = data_test[:,1:257]\n",
    "y_test = data_test[:,0]\n",
    "\n",
    "# Now that we have found support vector machine to be the best classifier, we will try to play with this algorithm's parameters to see if we can get a better classification than with default parameters.\n",
    "print('Now that we have found support vector machine to be the best classifier, we will try to play with this algorithm s parameters to see if we can get a better classification than with default parameters.')\n",
    "\n",
    "# For a quick assessment of prediction performance on the train set, we'll be using the cross validation score (k fold cross-validation k=10)\n",
    "from sklearn.model_selection import cross_val_score\n",
    "\n",
    "# For a quick assessment of prediction performance on the test set, we'll be using the accuracy score\n",
    "from sklearn.metrics import accuracy_score\n",
    "\n",
    "# To assess the computing cost of each method, we'll time the calculations:\n",
    "import timeit"
   ]
  },
  {
   "cell_type": "code",
   "execution_count": 2,
   "metadata": {
    "collapsed": true
   },
   "outputs": [],
   "source": [
    "# Support Vector Machine, optimize C parameter\n",
    "\n",
    "start_svmc = timeit.default_timer()\n",
    "\n",
    "from sklearn.svm import SVC\n",
    "paths_m = []\n",
    "paths_cvs = []\n",
    "paths_as = []\n",
    "for m in range(1,100,1):\n",
    "\tsv = SVC(C=m/2)\n",
    "\tsv.fit(X_train,y_train)\n",
    "\n",
    "\tcvs_sv = cross_val_score(sv, X_train, y_train, cv=10).mean()\n",
    "\n",
    "\t# We now apply our predictive model on the test data (X_test) \n",
    "\ty_test_pred = sv.predict(X_test)\n",
    "\tas_sv = accuracy_score(y_test, y_test_pred)\n",
    "\n",
    "\tpaths_m.append(m/2)\n",
    "\tpaths_cvs.append(cvs_sv)\n",
    "\tpaths_as.append(as_sv)\n",
    "\n",
    "stop_svmc = timeit.default_timer()\n",
    "time_svmc = stop_svmc - start_svmc"
   ]
  },
  {
   "cell_type": "code",
   "execution_count": 3,
   "metadata": {},
   "outputs": [
    {
     "name": "stdout",
     "output_type": "stream",
     "text": [
      "4960.801998933333\n"
     ]
    }
   ],
   "source": [
    "print(time_svmc)"
   ]
  },
  {
   "cell_type": "code",
   "execution_count": 4,
   "metadata": {},
   "outputs": [
    {
     "data": {
      "text/plain": [
       "Text(0.5,1,'Cross validation performance')"
      ]
     },
     "execution_count": 4,
     "metadata": {},
     "output_type": "execute_result"
    },
    {
     "data": {
      "image/png": "[encoded data removed]",
      "text/plain": [
       "<matplotlib.figure.Figure at 0x84fde10>"
      ]
     },
     "metadata": {},
     "output_type": "display_data"
    }
   ],
   "source": [
    "import matplotlib.pyplot as plt\n",
    "%matplotlib inline\n",
    "\n",
    "# print the graph showing confusion cross validation following 'C'\n",
    "plt.plot(paths_m, paths_cvs, '-ro')\n",
    "plt.xlabel('Penalty parameter C of the error term')\n",
    "plt.ylabel('Cross validation score')\n",
    "plt.title('Cross validation performance')"
   ]
  },
  {
   "cell_type": "code",
   "execution_count": 5,
   "metadata": {},
   "outputs": [
    {
     "data": {
      "text/plain": [
       "Text(0.5,1,'Prediction accuracy')"
      ]
     },
     "execution_count": 5,
     "metadata": {},
     "output_type": "execute_result"
    },
    {
     "data": {
      "image/png": "[encoded data removed]",
      "text/plain": [
       "<matplotlib.figure.Figure at 0x84fd890>"
      ]
     },
     "metadata": {},
     "output_type": "display_data"
    }
   ],
   "source": [
    "# print the graph showing accuracy score following 'C'\n",
    "plt.plot(paths_m, paths_as, '-b')\n",
    "plt.xlabel('Penalty parameter C of the error term')\n",
    "plt.ylabel('Accuracy score')\n",
    "plt.title('Prediction accuracy')"
   ]
  },
  {
   "cell_type": "code",
   "execution_count": 6,
   "metadata": {},
   "outputs": [
    {
     "name": "stdout",
     "output_type": "stream",
     "text": [
      "5.0\n"
     ]
    }
   ],
   "source": [
    "# Getting the position of the maximum accuracy score to tell what C parameter is optimal\n",
    "print((np.argmax(paths_as)+1)/2)"
   ]
  },
  {
   "cell_type": "code",
   "execution_count": 7,
   "metadata": {},
   "outputs": [
    {
     "name": "stdout",
     "output_type": "stream",
     "text": [
      "Now that we know that C=5 seems to give the optimal accuracy at about 95.2%, we play with the Gamma parameter.\n",
      "Preliminary spot checks seems to show that optimal Gamma is between 1/150 and 1/50, so we will run between these 2 boundaries.\n"
     ]
    }
   ],
   "source": [
    "#Now that we know that C=5 seems to give the optimal accuracy at about 95.2%, let's play with the Gamma parameter.\n",
    "print('Now that we know that C=5 seems to give the optimal accuracy at about 95.2%, we play with the Gamma parameter.')\n",
    "\n",
    "# Preliminary spot checks seems to show that optimal Gamma is between 1/150 and 1/50, so we will run between these 2 boundaries.\n",
    "print('Preliminary spot checks seems to show that optimal Gamma is between 1/150 and 1/50, so we will run between these 2 boundaries.')"
   ]
  },
  {
   "cell_type": "code",
   "execution_count": 8,
   "metadata": {
    "collapsed": true
   },
   "outputs": [],
   "source": [
    "# Support Vector Machine, optimize Gamma parameter\n",
    "\n",
    "start_svmg = timeit.default_timer()\n",
    "\n",
    "from sklearn.svm import SVC\n",
    "paths_m = []\n",
    "paths_cvs = []\n",
    "paths_as = []\n",
    "for m in range(1,101,1):\n",
    "\tsv = SVC(C=5, gamma=1/(151-m))\n",
    "\tsv.fit(X_train,y_train)\n",
    "\n",
    "\tcvs_sv = cross_val_score(sv, X_train, y_train, cv=10).mean()\n",
    "\n",
    "\t# We now apply our predictive model on the test data (X_test) \n",
    "\ty_test_pred = sv.predict(X_test)\n",
    "\tas_sv = accuracy_score(y_test, y_test_pred)\n",
    "\n",
    "\tpaths_m.append(1/(151-m))\n",
    "\tpaths_cvs.append(cvs_sv)\n",
    "\tpaths_as.append(as_sv)\n",
    "\n",
    "stop_svmg = timeit.default_timer()\n",
    "time_svmg = stop_svmg - start_svmg"
   ]
  },
  {
   "cell_type": "code",
   "execution_count": 9,
   "metadata": {},
   "outputs": [
    {
     "name": "stdout",
     "output_type": "stream",
     "text": [
      "10231.27340672\n"
     ]
    }
   ],
   "source": [
    "print(time_svmg)"
   ]
  },
  {
   "cell_type": "code",
   "execution_count": 10,
   "metadata": {},
   "outputs": [
    {
     "data": {
      "text/plain": [
       "Text(0.5,1,'Cross validation performance')"
      ]
     },
     "execution_count": 10,
     "metadata": {},
     "output_type": "execute_result"
    },
    {
     "data": {
      "image/png": "[encoded data removed]",
      "text/plain": [
       "<matplotlib.figure.Figure at 0xee53330>"
      ]
     },
     "metadata": {},
     "output_type": "display_data"
    }
   ],
   "source": [
    "#print the graph showing confusion cross validation following 'Gamma' while using seaborn\n",
    "import seaborn as sns \n",
    "sns.set_style(\"darkgrid\")\n",
    "\n",
    "plt.plot(paths_m, paths_cvs, '-ro')\n",
    "plt.xlabel('Gamma parameter')\n",
    "plt.ylabel('Cross validation score')\n",
    "plt.title('Cross validation performance')"
   ]
  },
  {
   "cell_type": "code",
   "execution_count": 11,
   "metadata": {},
   "outputs": [
    {
     "data": {
      "text/plain": [
       "Text(0.5,1,'Prediction accuracy')"
      ]
     },
     "execution_count": 11,
     "metadata": {},
     "output_type": "execute_result"
    },
    {
     "data": {
      "image/png": "[encoded data removed]",
      "text/plain": [
       "<matplotlib.figure.Figure at 0x14fb4190>"
      ]
     },
     "metadata": {},
     "output_type": "display_data"
    }
   ],
   "source": [
    "#print the graph showing accuracy score following 'Gamma'\n",
    "plt.plot(paths_m, paths_as, '-b')\n",
    "plt.xlabel('Gamma parameter')\n",
    "plt.ylabel('Accuracy score')\n",
    "plt.title('Prediction accuracy')"
   ]
  },
  {
   "cell_type": "code",
   "execution_count": 12,
   "metadata": {},
   "outputs": [
    {
     "name": "stdout",
     "output_type": "stream",
     "text": [
      "18 0.00751879699248\n"
     ]
    }
   ],
   "source": [
    "# Getting the position of the maximum accuracy score to tell what Gamma parameter is optimal\n",
    "print(np.argmax(paths_as), 1/(151-np.argmax(paths_as)))"
   ]
  },
  {
   "cell_type": "code",
   "execution_count": 13,
   "metadata": {},
   "outputs": [
    {
     "name": "stdout",
     "output_type": "stream",
     "text": [
      "0.954658694569\n"
     ]
    }
   ],
   "source": [
    "# What is the accuracy ratio for our optimal paramaters C=5 & Gamma=1/133\n",
    "print(np.max(paths_as))"
   ]
  },
  {
   "cell_type": "code",
   "execution_count": 14,
   "metadata": {
    "collapsed": true
   },
   "outputs": [],
   "source": [
    "# Another parameter we could play upon is the kernel function, but since these trials are very demanding for my computer, \n",
    "# I might try to find advise on the web:\n",
    "# http://www.primaryobjects.com/2014/01/09/classifying-handwritten-digits-with-machine-learning/\n",
    "# https://github.com/ksopyla/svm_mnist_digit_classification\n",
    "# These links tend to indicate that the default RBF (radial basis function) kernel is adequate, so we will stick to that."
   ]
  },
  {
   "cell_type": "code",
   "execution_count": 15,
   "metadata": {
    "collapsed": true
   },
   "outputs": [],
   "source": [
    "# We will now do a grid search around the parameters C=5 and Gamma = 0.00752\n",
    "start_svmgrid = timeit.default_timer()\n",
    "\n",
    "from sklearn.model_selection import GridSearchCV\n",
    "grid = GridSearchCV(SVC(), param_grid={'C': [4.80,4.85,4.90,4.95,5.0,5.05,5.10,5.15,5.20,5.25], 'gamma':[0.0055,0.0060,0.0065,0.0070,0.00752,0.0080,0.0085,0.0090,0.0095,0.0100]})\n",
    "grid.fit(X_train,y_train)\n",
    "\n",
    "stop_svmgrid = timeit.default_timer()\n",
    "time_svmgrid = stop_svmgrid - start_svmgrid"
   ]
  },
  {
   "cell_type": "code",
   "execution_count": 16,
   "metadata": {},
   "outputs": [
    {
     "name": "stdout",
     "output_type": "stream",
     "text": [
      "2694.781863253338\n"
     ]
    }
   ],
   "source": [
    "print(time_svmgrid)"
   ]
  },
  {
   "cell_type": "code",
   "execution_count": 17,
   "metadata": {},
   "outputs": [
    {
     "name": "stdout",
     "output_type": "stream",
     "text": [
      "0.952665670154\n"
     ]
    }
   ],
   "source": [
    "y_test_pred_grid = grid.predict(X_test)\n",
    "as_svgrid = accuracy_score(y_test, y_test_pred_grid)\n",
    "print(as_svgrid)"
   ]
  },
  {
   "cell_type": "code",
   "execution_count": 18,
   "metadata": {},
   "outputs": [
    {
     "name": "stdout",
     "output_type": "stream",
     "text": [
      "SVC(C=4.8, cache_size=200, class_weight=None, coef0=0.0,\n",
      "  decision_function_shape='ovr', degree=3, gamma=0.01, kernel='rbf',\n",
      "  max_iter=-1, probability=False, random_state=None, shrinking=True,\n",
      "  tol=0.001, verbose=False)\n"
     ]
    }
   ],
   "source": [
    "print(grid.best_estimator_)"
   ]
  },
  {
   "cell_type": "code",
   "execution_count": 19,
   "metadata": {},
   "outputs": [
    {
     "name": "stdout",
     "output_type": "stream",
     "text": [
      "The grid search, given optimization on the training set, does not yield better results than what we found previously while optimizing on the test set. Additionally, it does not converge near what we found previously as we could have predicted while optimizing cross validation performance on the training set.\n",
      "We then keep the Support Vector Machine with parameters C=5 & Gamma=1/133 as our best performance on the test set with a 0.954658694569 accuracy ratio.\n"
     ]
    }
   ],
   "source": [
    "# The grid search, given optimization on the training set, does not yield better results than what we found previously while optimizing on the test set. Additionally, it does not converge near what we found previously as we could have predicted while optimizing cross validation performance on the training set.\n",
    "print('The grid search, given optimization on the training set, does not yield better results than what we found previously while optimizing on the test set. Additionally, it does not converge near what we found previously as we could have predicted while optimizing cross validation performance on the training set.')\n",
    "\n",
    "# We then keep the Support Vector Machine with parameters C=5 & Gamma=1/133 as our best performance on the test set with a 0.954658694569 accuracy ratio.\n",
    "print('We then keep the Support Vector Machine with parameters C=5 & Gamma=1/133 as our best performance on the test set with a 0.954658694569 accuracy ratio.')\n"
   ]
  },
  {
   "cell_type": "code",
   "execution_count": 20,
   "metadata": {
    "collapsed": true
   },
   "outputs": [],
   "source": [
    "# Support Vector Machine with best C & Gamma parameters found\n",
    "\n",
    "# Start timer\n",
    "start_sv = timeit.default_timer()\n",
    "\n",
    "# Import the support vector machine model from the Scikit-learn library and run the algorithm\n",
    "from sklearn.svm import SVC\n",
    "sv = SVC(C=5, gamma = (1/133))\n",
    "sv.fit(X_train,y_train)\n",
    "\n",
    "cvs_sv = cross_val_score(sv, X_train, y_train, cv=10).mean()\n",
    "\n",
    "# We now apply our predictive model on the test data (X_test)  \n",
    "y_test_pred = sv.predict(X_test)\n",
    "as_sv = accuracy_score(y_test, y_test_pred)\n",
    "\n",
    "# Stop timer and calculate computing time in seconds\n",
    "stop_sv = timeit.default_timer()\n",
    "time_sv = stop_sv - start_sv"
   ]
  },
  {
   "cell_type": "code",
   "execution_count": 21,
   "metadata": {},
   "outputs": [
    {
     "name": "stdout",
     "output_type": "stream",
     "text": [
      "                   Method  Cross validation score on training set  \\\n",
      "0  Support Vector Machine                                0.980946   \n",
      "\n",
      "   Accuracy score on test set  Computing time (s)  \n",
      "0                     0.95416           65.714168  \n"
     ]
    }
   ],
   "source": [
    "# Creating a pandas dataframe summarizing this.\n",
    "resume = [('Support Vector Machine', cvs_sv, as_sv, time_sv)]\n",
    "labels = [ 'Method', 'Cross validation score on training set', 'Accuracy score on test set', 'Computing time (s)']\n",
    "\n",
    "import pandas as pd\n",
    "df = pd.DataFrame(resume, columns=labels)\n",
    "print(df)"
   ]
  },
  {
   "cell_type": "code",
   "execution_count": null,
   "metadata": {
    "collapsed": true
   },
   "outputs": [],
   "source": []
  }
 ],
 "metadata": {
  "kernelspec": {
   "display_name": "Python 3",
   "language": "python",
   "name": "python3"
  },
  "language_info": {
   "codemirror_mode": {
    "name": "ipython",
    "version": 3
   },
   "file_extension": ".py",
   "mimetype": "text/x-python",
   "name": "python",
   "nbconvert_exporter": "python",
   "pygments_lexer": "ipython3",
   "version": "3.6.3"
  }
 },
 "nbformat": 4,
 "nbformat_minor": 2
}
